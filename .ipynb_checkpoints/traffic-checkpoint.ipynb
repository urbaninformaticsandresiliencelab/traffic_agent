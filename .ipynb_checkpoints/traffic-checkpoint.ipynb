{
 "cells": [
  {
   "cell_type": "markdown",
   "metadata": {},
   "source": [
    "In order to run this code, you will need to have a couple of libraries/packages installed, including:\n",
    "\n",
    "- rxpy\n",
    "- googlemaps\n",
    "- selenium\n",
    "- pandas\n"
   ]
  },
  {
   "cell_type": "code",
   "execution_count": 2,
   "metadata": {},
   "outputs": [],
   "source": [
    "from rx import Observable, Observer\n",
    "import trafficagent\n",
    "from datetime import datetime, timedelta"
   ]
  },
  {
   "cell_type": "markdown",
   "metadata": {},
   "source": [
    "\n",
    "In addition, `selenium webdriver` needs to be downloaded based on the OS, made executable, and passed via the variable: `webdriverpath`.   \n",
    "\n",
    "Google maps's direction api needs to enabled on your google cloud account, and the api key needs to be entered.\n",
    "\n",
    "\n"
   ]
  },
  {
   "cell_type": "code",
   "execution_count": 3,
   "metadata": {},
   "outputs": [],
   "source": [
    "an_origin = '42.365480, -71.103942'\n",
    "a_destination = '42.337061, -71.089666'\n",
    "api_key = 'ENTER-YOUR-API-KEY-HERE'# ENTER-YOUR-API-KEY-HERE\n",
    "webdriverpath = '/home/arminakvn/Downloads/chromedriver' # THIS-NEEDS-TO-BE-WHERE-YOU-PUT-THE-WEBDRIVR-EXECUTABLE-FILE"
   ]
  },
  {
   "cell_type": "markdown",
   "metadata": {},
   "source": [
    "we make an instance of the class, and pass the configuration parameters to it"
   ]
  },
  {
   "cell_type": "code",
   "execution_count": 4,
   "metadata": {},
   "outputs": [],
   "source": [
    "a = trafficagent.Agent()\n",
    "a.gm_conf(api_key,an_origin,a_destination,webdriverpath)\n"
   ]
  },
  {
   "cell_type": "markdown",
   "metadata": {},
   "source": [
    "specify the time interval, and the number of times you want this to run-- if you don't pass the take() parameter, it will run indefenitly and won't get to save the results in a csv file."
   ]
  },
  {
   "cell_type": "code",
   "execution_count": 5,
   "metadata": {
    "scrolled": true
   },
   "outputs": [
    {
     "data": {
      "text/plain": [
       "<rx.disposables.anonymousdisposable.AnonymousDisposable at 0x7f9a2007be80>"
      ]
     },
     "execution_count": 5,
     "metadata": {},
     "output_type": "execute_result"
    },
    {
     "name": "stdout",
     "output_type": "stream",
     "text": [
      "2018-06-20 13:25:20.598614\n",
      "1\n",
      "1\n",
      "14 mins\n",
      "2018-06-20 13:25:31.556479\n",
      "1\n",
      "1\n",
      "14 mins\n",
      "2018-06-20 13:25:43.653874\n",
      "1\n",
      "1\n",
      "15 mins\n",
      "2018-06-20 13:25:54.810174\n",
      "1\n",
      "1\n",
      "15 mins\n",
      "2018-06-20 13:26:05.985699\n",
      "1\n",
      "1\n",
      "15 mins\n",
      "[{'duration_in_traffic': {'text': '14 mins', 'value': 863}, 'duration': {'text': '15 mins', 'value': 899}}, {'duration_in_traffic': {'text': '14 mins', 'value': 858}, 'duration': {'text': '15 mins', 'value': 899}}, {'duration_in_traffic': {'text': '15 mins', 'value': 877}, 'duration': {'text': '15 mins', 'value': 899}}, {'duration_in_traffic': {'text': '15 mins', 'value': 870}, 'duration': {'text': '15 mins', 'value': 899}}, {'duration_in_traffic': {'text': '15 mins', 'value': 875}, 'duration': {'text': '15 mins', 'value': 899}}]\n",
      "Done!\n"
     ]
    }
   ],
   "source": [
    "timer = Observable.interval(timedelta(seconds=3)).take(5)\n",
    "timer.subscribe(a)"
   ]
  },
  {
   "cell_type": "markdown",
   "metadata": {},
   "source": [
    "a file named results.csv is generated in your `current working directory` of the python kernel you are running, in addition to images of the screenshots of maps with the traffic layer."
   ]
  },
  {
   "cell_type": "code",
   "execution_count": null,
   "metadata": {},
   "outputs": [],
   "source": []
  },
  {
   "cell_type": "code",
   "execution_count": null,
   "metadata": {},
   "outputs": [],
   "source": []
  }
 ],
 "metadata": {
  "kernelspec": {
   "display_name": "Python 3",
   "language": "python",
   "name": "python3"
  },
  "language_info": {
   "codemirror_mode": {
    "name": "ipython",
    "version": 3
   },
   "file_extension": ".py",
   "mimetype": "text/x-python",
   "name": "python",
   "nbconvert_exporter": "python",
   "pygments_lexer": "ipython3",
   "version": "3.6.4"
  }
 },
 "nbformat": 4,
 "nbformat_minor": 2
}
