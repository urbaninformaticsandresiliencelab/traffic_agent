{
 "cells": [
  {
   "cell_type": "markdown",
   "metadata": {},
   "source": [
    "In order to run this code, you will need to have a couple of libraries/packages installed, including:\n",
    "\n",
    "- rxpy\n",
    "- googlemaps\n",
    "- selenium\n",
    "- pandas\n"
   ]
  },
  {
   "cell_type": "code",
   "execution_count": 2,
   "metadata": {},
   "outputs": [],
   "source": [
    "from rx import Observable, Observer\n",
    "import trafficagent\n",
    "from datetime import datetime, timedelta"
   ]
  },
  {
   "cell_type": "markdown",
   "metadata": {},
   "source": [
    "\n",
    "In addition, `selenium webdriver` needs to be downloaded based on the OS, made executable, and passed via the variable: `webdriverpath`.   \n",
    "\n",
    "Google maps's direction api needs to enabled on your google cloud account, and the api key needs to be entered.\n",
    "\n",
    "\n"
   ]
  },
  {
   "cell_type": "code",
   "execution_count": 3,
   "metadata": {},
   "outputs": [],
   "source": [
    "an_origin = '42.365480, -71.103942'\n",
    "a_destination = '42.337061, -71.089666'\n",
    "api_key = 'ENTER-YOUR-API-KEY-HERE'# ENTER-YOUR-API-KEY-HERE\n",
    "webdriverpath = '/home/arminakvn/Downloads/chromedriver' # THIS-NEEDS-TO-BE-WHERE-YOU-PUT-THE-WEBDRIVR-EXECUTABLE-FILE"
   ]
  },
  {
   "cell_type": "markdown",
   "metadata": {},
   "source": [
    "we make an instance of the class, and pass the configuration parameters to it"
   ]
  },
  {
   "cell_type": "code",
   "execution_count": 3,
   "metadata": {},
   "outputs": [
    {
     "data": {
      "text/plain": [
       "<rx.disposables.anonymousdisposable.AnonymousDisposable at 0x7f85f9e9a0b8>"
      ]
     },
     "execution_count": 3,
     "metadata": {},
     "output_type": "execute_result"
    },
    {
     "name": "stdout",
     "output_type": "stream",
     "text": [
      "2018-06-20 12:57:58.410044\n",
      "1\n",
      "1\n",
      "14 mins\n"
     ]
    }
   ],
   "source": [
    "a = trafficagent.Agent()\n",
    "a.gm_conf(api_key,an_origin,a_destination,webdriverpath)\n"
   ]
  },
  {
   "cell_type": "markdown",
   "metadata": {},
   "source": [
    "specify the time interval, and the number of times you want this to run-- if you don't pass the take() parameter, it will run indefenitly and won't get to save the results in a csv file."
   ]
  },
  {
   "cell_type": "code",
   "execution_count": null,
   "metadata": {},
   "outputs": [],
   "source": [
    "timer = Observable.interval(timedelta(seconds=5)).take(20)\n",
    "timer.subscribe(a)"
   ]
  },
  {
   "cell_type": "markdown",
   "metadata": {},
   "source": [
    "a file named results.csv is generated in your `current working directory` of the python kernel you are running, in addition to images of the screenshots of maps with the traffic layer."
   ]
  },
  {
   "cell_type": "code",
   "execution_count": null,
   "metadata": {},
   "outputs": [],
   "source": []
  }
 ],
 "metadata": {
  "kernelspec": {
   "display_name": "Python 3",
   "language": "python",
   "name": "python3"
  },
  "language_info": {
   "codemirror_mode": {
    "name": "ipython",
    "version": 3
   },
   "file_extension": ".py",
   "mimetype": "text/x-python",
   "name": "python",
   "nbconvert_exporter": "python",
   "pygments_lexer": "ipython3",
   "version": "3.6.4"
  }
 },
 "nbformat": 4,
 "nbformat_minor": 2
}
